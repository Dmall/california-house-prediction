{
  "cells": [
    {
      "cell_type": "markdown",
      "metadata": {
        "id": "jVbZn1v1sv3U"
      },
      "source": [
        "**Install all the required libraries -> pip install numpy**\n",
        "\n",
        "**Import all the required libraries**"
      ]
    },
    {
      "cell_type": "code",
      "execution_count": 13,
      "metadata": {
        "id": "bHBW9Gz4sXBl"
      },
      "outputs": [],
      "source": [
        "import pandas as pd\n",
        "import numpy as np\n",
        "import seaborn as sns\n",
        "import matplotlib.pyplot as plt"
      ]
    },
    {
      "cell_type": "markdown",
      "metadata": {
        "id": "2_NF6qkStLqd"
      },
      "source": [
        "**Load the dataset california housing**"
      ]
    },
    {
      "cell_type": "code",
      "execution_count": 14,
      "metadata": {
        "id": "Meo0IC-utKSO"
      },
      "outputs": [
        {
          "ename": "ModuleNotFoundError",
          "evalue": "No module named 'sklearn'",
          "output_type": "error",
          "traceback": [
            "\u001b[31m---------------------------------------------------------------------------\u001b[39m",
            "\u001b[31mModuleNotFoundError\u001b[39m                       Traceback (most recent call last)",
            "\u001b[36mCell\u001b[39m\u001b[36m \u001b[39m\u001b[32mIn[14]\u001b[39m\u001b[32m, line 1\u001b[39m\n\u001b[32m----> \u001b[39m\u001b[32m1\u001b[39m \u001b[38;5;28;01mfrom\u001b[39;00m\u001b[38;5;250m \u001b[39m\u001b[34;01msklearn\u001b[39;00m\u001b[34;01m.\u001b[39;00m\u001b[34;01mdatasets\u001b[39;00m\u001b[38;5;250m \u001b[39m\u001b[38;5;28;01mimport\u001b[39;00m fetch_california_housing\n\u001b[32m      2\u001b[39m housing = fetch_california_housing()\n",
            "\u001b[31mModuleNotFoundError\u001b[39m: No module named 'sklearn'"
          ]
        }
      ],
      "source": [
        "from sklearn.datasets import fetch_california_housing\n",
        "housing = fetch_california_housing()"
      ]
    },
    {
      "cell_type": "code",
      "execution_count": null,
      "metadata": {
        "colab": {
          "base_uri": "https://localhost:8080/"
        },
        "id": "t5m_r5_KtdxV",
        "outputId": "c5cffc8c-980b-417b-d530-46461de9917f"
      },
      "outputs": [
        {
          "ename": "NameError",
          "evalue": "name 'housing' is not defined",
          "output_type": "error",
          "traceback": [
            "\u001b[31m---------------------------------------------------------------------------\u001b[39m",
            "\u001b[31mNameError\u001b[39m                                 Traceback (most recent call last)",
            "\u001b[36mCell\u001b[39m\u001b[36m \u001b[39m\u001b[32mIn[11]\u001b[39m\u001b[32m, line 1\u001b[39m\n\u001b[32m----> \u001b[39m\u001b[32m1\u001b[39m \u001b[38;5;28mtype\u001b[39m(\u001b[43mhousing\u001b[49m)\n",
            "\u001b[31mNameError\u001b[39m: name 'housing' is not defined"
          ]
        }
      ],
      "source": [
        "type(housing)\n"
      ]
    },
    {
      "cell_type": "code",
      "execution_count": null,
      "metadata": {
        "colab": {
          "base_uri": "https://localhost:8080/"
        },
        "id": "URrVgj9htg5l",
        "outputId": "d6d850c8-acf9-4144-d5fd-8fc99fa10afd"
      },
      "outputs": [],
      "source": [
        "housing"
      ]
    },
    {
      "cell_type": "code",
      "execution_count": null,
      "metadata": {
        "colab": {
          "base_uri": "https://localhost:8080/"
        },
        "id": "PNijYdkPtmJe",
        "outputId": "021228b2-c3f2-42aa-b04f-b63ee44381b7"
      },
      "outputs": [],
      "source": [
        "print(housing.DESCR)"
      ]
    },
    {
      "cell_type": "code",
      "execution_count": null,
      "metadata": {
        "colab": {
          "base_uri": "https://localhost:8080/"
        },
        "id": "Dk7DTFrBttpe",
        "outputId": "25b2a9da-89ee-4754-91c4-d1cb0998439a"
      },
      "outputs": [],
      "source": [
        "print(housing.feature_names)"
      ]
    },
    {
      "cell_type": "code",
      "execution_count": null,
      "metadata": {
        "colab": {
          "base_uri": "https://localhost:8080/"
        },
        "id": "ku4XjweguD22",
        "outputId": "6dfe963a-e863-4171-8730-dd47ee2c86ea"
      },
      "outputs": [],
      "source": [
        "print(housing.target)"
      ]
    },
    {
      "cell_type": "code",
      "execution_count": null,
      "metadata": {
        "colab": {
          "base_uri": "https://localhost:8080/"
        },
        "id": "pZ4Eb73PuI9o",
        "outputId": "39399ecd-7db6-409c-9ecc-4d0eb69d04d4"
      },
      "outputs": [],
      "source": [
        "print(housing.data)"
      ]
    },
    {
      "cell_type": "markdown",
      "metadata": {
        "id": "CdNuN_2wuagH"
      },
      "source": [
        "**Prepare the data**"
      ]
    },
    {
      "cell_type": "code",
      "execution_count": null,
      "metadata": {
        "id": "axxNSBEtuOx_"
      },
      "outputs": [],
      "source": [
        "dataset = pd.DataFrame(housing.data, columns=housing.feature_names)"
      ]
    },
    {
      "cell_type": "code",
      "execution_count": null,
      "metadata": {
        "colab": {
          "base_uri": "https://localhost:8080/"
        },
        "id": "4ASp_fTA1lOP",
        "outputId": "79cde0cd-ba7c-461a-fc7e-9cae66a658b6"
      },
      "outputs": [],
      "source": [
        "type(dataset)"
      ]
    },
    {
      "cell_type": "code",
      "execution_count": null,
      "metadata": {
        "colab": {
          "base_uri": "https://localhost:8080/",
          "height": 206
        },
        "id": "Ggai9CwZ1nYm",
        "outputId": "b39a02c0-3dca-4c31-db0c-07602737f78a"
      },
      "outputs": [],
      "source": [
        "dataset.head()"
      ]
    },
    {
      "cell_type": "code",
      "execution_count": null,
      "metadata": {
        "colab": {
          "base_uri": "https://localhost:8080/",
          "height": 206
        },
        "id": "YOhvzu8w1vT2",
        "outputId": "36c2513b-e23e-4ad7-bdb3-d74a965d6564"
      },
      "outputs": [],
      "source": [
        "dataset.tail()"
      ]
    },
    {
      "cell_type": "code",
      "execution_count": null,
      "metadata": {
        "id": "KNmIJRvP13wV"
      },
      "outputs": [],
      "source": [
        "dataset['Price'] = housing.target"
      ]
    },
    {
      "cell_type": "code",
      "execution_count": null,
      "metadata": {
        "colab": {
          "base_uri": "https://localhost:8080/",
          "height": 206
        },
        "id": "IJ9D44dV2IdX",
        "outputId": "c820d220-3324-431f-dd43-520f21366c7a"
      },
      "outputs": [],
      "source": [
        "dataset.head()"
      ]
    },
    {
      "cell_type": "code",
      "execution_count": null,
      "metadata": {
        "colab": {
          "base_uri": "https://localhost:8080/"
        },
        "id": "qkzmw8JL2KCG",
        "outputId": "efc836be-eff7-45c7-bfbc-bbcd4e88f0b0"
      },
      "outputs": [],
      "source": [
        "dataset.info()"
      ]
    },
    {
      "cell_type": "markdown",
      "metadata": {
        "id": "k8tZip-m2XXH"
      },
      "source": [
        "**Statistical description of the data**"
      ]
    },
    {
      "cell_type": "code",
      "execution_count": null,
      "metadata": {
        "colab": {
          "base_uri": "https://localhost:8080/",
          "height": 320
        },
        "id": "EUP8oR572QqP",
        "outputId": "a3c33068-64e8-4425-b7b7-6e86cb52ae80"
      },
      "outputs": [],
      "source": [
        "dataset.describe()"
      ]
    },
    {
      "cell_type": "code",
      "execution_count": null,
      "metadata": {
        "colab": {
          "base_uri": "https://localhost:8080/"
        },
        "id": "OVN-7Uc42c1m",
        "outputId": "b07c71de-f629-45d0-a132-2e90b7e77292"
      },
      "outputs": [],
      "source": [
        "## check the null values\n",
        "dataset.isnull().sum()"
      ]
    },
    {
      "cell_type": "markdown",
      "metadata": {
        "id": "j9xay2eE3PyF"
      },
      "source": [
        "**EDA -> Exploratory Data Analysis**"
      ]
    },
    {
      "cell_type": "markdown",
      "metadata": {
        "id": "FCdL7DaBB03z"
      },
      "source": [
        "\n",
        "\n",
        "*   AveBedrooms and AveRooms : 0.847621\n",
        "*   Longitude and Latitude : -0.924664\n",
        "\n"
      ]
    },
    {
      "cell_type": "code",
      "execution_count": null,
      "metadata": {
        "colab": {
          "base_uri": "https://localhost:8080/",
          "height": 331
        },
        "id": "P5FQy5Oe22y2",
        "outputId": "69d3e51a-8781-4a53-d79d-3d9a28a7c288"
      },
      "outputs": [],
      "source": [
        "dataset.corr()"
      ]
    },
    {
      "cell_type": "code",
      "execution_count": null,
      "metadata": {
        "colab": {
          "base_uri": "https://localhost:8080/",
          "height": 1000
        },
        "id": "SvaKRRZlBCGG",
        "outputId": "9474ceda-1dfa-4fdc-c433-6f868c17f11c"
      },
      "outputs": [],
      "source": [
        "sns.pairplot(dataset)"
      ]
    },
    {
      "cell_type": "markdown",
      "metadata": {
        "id": "YzivE5y0CmuF"
      },
      "source": [
        "BoxPlot : To detect the outliers in a given dataset"
      ]
    },
    {
      "cell_type": "code",
      "execution_count": null,
      "metadata": {
        "colab": {
          "base_uri": "https://localhost:8080/",
          "height": 1000
        },
        "id": "AUhXwaSQBvPG",
        "outputId": "80053005-ecf6-458e-b36e-e0e8c3eb5d54"
      },
      "outputs": [],
      "source": [
        "fig, ax = plt.subplots(figsize=(15,15))\n",
        "sns.boxplot(data = dataset, ax=ax)\n",
        "plt.savefig(\"boxPlot.jpg\")"
      ]
    },
    {
      "cell_type": "code",
      "execution_count": null,
      "metadata": {
        "id": "xreWnL3mC4bz"
      },
      "outputs": [],
      "source": [
        "## Split the data into independent and dependent features\n",
        "X = dataset.iloc[:,:-1]\n",
        "y = dataset.iloc[:,-1]"
      ]
    },
    {
      "cell_type": "code",
      "execution_count": null,
      "metadata": {
        "colab": {
          "base_uri": "https://localhost:8080/",
          "height": 423
        },
        "id": "ThUEmTnUErDN",
        "outputId": "a8fd983e-5cbb-463e-f7bb-81aa831611fa"
      },
      "outputs": [],
      "source": [
        "X"
      ]
    },
    {
      "cell_type": "code",
      "execution_count": null,
      "metadata": {
        "colab": {
          "base_uri": "https://localhost:8080/"
        },
        "id": "PfFdSD_vErp2",
        "outputId": "23da93fb-fdb3-4198-c4e9-9f269f7def80"
      },
      "outputs": [],
      "source": [
        "y"
      ]
    },
    {
      "cell_type": "code",
      "execution_count": null,
      "metadata": {
        "id": "fB92wDK_EvM2"
      },
      "outputs": [],
      "source": [
        "## Split the data into train and test set\n",
        "from sklearn.model_selection import train_test_split\n",
        "X_train, X_test, y_train, y_test = train_test_split(X, y, test_size=0.3, random_state = 42)"
      ]
    },
    {
      "cell_type": "code",
      "execution_count": null,
      "metadata": {
        "colab": {
          "base_uri": "https://localhost:8080/",
          "height": 423
        },
        "id": "3zfvWMa8FQ8u",
        "outputId": "dd019bf7-c0af-4f12-9b58-8b88f3062171"
      },
      "outputs": [],
      "source": [
        "X_train"
      ]
    },
    {
      "cell_type": "code",
      "execution_count": null,
      "metadata": {
        "colab": {
          "base_uri": "https://localhost:8080/",
          "height": 423
        },
        "id": "exT4vtX7FR9V",
        "outputId": "25836807-9062-4870-c383-ac003bcc7029"
      },
      "outputs": [],
      "source": [
        "X_test"
      ]
    },
    {
      "cell_type": "code",
      "execution_count": null,
      "metadata": {
        "colab": {
          "base_uri": "https://localhost:8080/"
        },
        "id": "PSFtVwsUFUU2",
        "outputId": "050ff037-595b-43ab-d8c5-5b5d8dd75388"
      },
      "outputs": [],
      "source": [
        "y_train"
      ]
    },
    {
      "cell_type": "code",
      "execution_count": null,
      "metadata": {
        "colab": {
          "base_uri": "https://localhost:8080/"
        },
        "id": "5Z15IsuQFWcG",
        "outputId": "a9e7f3fc-d9df-43e7-821a-1cbed1f3d93c"
      },
      "outputs": [],
      "source": [
        "y_test"
      ]
    },
    {
      "cell_type": "code",
      "execution_count": null,
      "metadata": {
        "id": "rDlfBCFQFXzt"
      },
      "outputs": [],
      "source": [
        "## Normalization of the given data points\n",
        "from sklearn.preprocessing import StandardScaler\n",
        "scaler = StandardScaler()\n",
        "X_train_norm = scaler.fit_transform(X_train)"
      ]
    },
    {
      "cell_type": "code",
      "execution_count": null,
      "metadata": {
        "colab": {
          "base_uri": "https://localhost:8080/"
        },
        "id": "V0um7m3YFsmn",
        "outputId": "8b2db5bd-23d2-414b-d000-ce8b9101e2b4"
      },
      "outputs": [],
      "source": [
        "X_train_norm"
      ]
    },
    {
      "cell_type": "code",
      "execution_count": null,
      "metadata": {
        "colab": {
          "base_uri": "https://localhost:8080/",
          "height": 1000
        },
        "id": "NCZ2JrVfFukt",
        "outputId": "c3fcd234-48be-4577-e956-99e0f8946e3a"
      },
      "outputs": [],
      "source": [
        "fig, ax = plt.subplots(figsize=(15,15))\n",
        "sns.boxplot(data = X_train_norm, ax=ax)\n",
        "plt.savefig(\"boxPlotTrainData.jpg\")"
      ]
    },
    {
      "cell_type": "code",
      "execution_count": null,
      "metadata": {
        "id": "qcAV3LvOF2T9"
      },
      "outputs": [],
      "source": [
        "X_test_norm = scaler.transform(X_test)"
      ]
    },
    {
      "cell_type": "code",
      "execution_count": null,
      "metadata": {
        "colab": {
          "base_uri": "https://localhost:8080/",
          "height": 1000
        },
        "id": "dH_iBbxjGNG-",
        "outputId": "99ae7164-9e87-4912-c3c9-58c990220b08"
      },
      "outputs": [],
      "source": [
        "fig, ax = plt.subplots(figsize=(15,15))\n",
        "sns.boxplot(data = X_test_norm, ax=ax)\n",
        "plt.savefig(\"boxPlotTestData.jpg\")"
      ]
    },
    {
      "cell_type": "code",
      "execution_count": null,
      "metadata": {
        "id": "4epH1RuEGR4m"
      },
      "outputs": [],
      "source": [
        "## Train set -> fit_transform(X_train)\n",
        "## Test set -> transform(X_test)\n",
        "## Why usually this happens?"
      ]
    },
    {
      "cell_type": "code",
      "execution_count": null,
      "metadata": {},
      "outputs": [],
      "source": [
        "import pickle\n",
        "with open('scaling_new.pkl', 'wb') as f:\n",
        "    pickle.dump(scaler, f)"
      ]
    },
    {
      "cell_type": "markdown",
      "metadata": {
        "id": "EH_JeujKgZ94"
      },
      "source": [
        "Model Training"
      ]
    },
    {
      "cell_type": "code",
      "execution_count": null,
      "metadata": {
        "colab": {
          "base_uri": "https://localhost:8080/",
          "height": 74
        },
        "id": "fPrA1Bbtgcua",
        "outputId": "3dee3276-5cd7-4cc3-ff51-d145911db1d2"
      },
      "outputs": [],
      "source": [
        "from sklearn.linear_model import LinearRegression\n",
        "regression = LinearRegression()\n",
        "regression.fit(X_train_norm, y_train)"
      ]
    },
    {
      "cell_type": "code",
      "execution_count": null,
      "metadata": {
        "colab": {
          "base_uri": "https://localhost:8080/"
        },
        "id": "EkjczPYxg55A",
        "outputId": "925da1e5-f5a8-494e-c2e0-a6587ca9962a"
      },
      "outputs": [],
      "source": [
        "print(regression.coef_)"
      ]
    },
    {
      "cell_type": "code",
      "execution_count": null,
      "metadata": {
        "colab": {
          "base_uri": "https://localhost:8080/"
        },
        "id": "KH5KpGxFg-vw",
        "outputId": "1b6ddad6-c704-44d3-c520-1d5f57f39178"
      },
      "outputs": [],
      "source": [
        "print(regression.intercept_)"
      ]
    },
    {
      "cell_type": "markdown",
      "metadata": {
        "id": "mPmKMVv0h2v1"
      },
      "source": [
        "**Model Prediction**"
      ]
    },
    {
      "cell_type": "code",
      "execution_count": null,
      "metadata": {
        "colab": {
          "base_uri": "https://localhost:8080/"
        },
        "id": "aFTaZQtOhs5n",
        "outputId": "2b06bcc6-26a4-4c00-b26d-1352c68633d5"
      },
      "outputs": [],
      "source": [
        "reg_pred = regression.predict(X_test_norm)\n",
        "reg_pred"
      ]
    },
    {
      "cell_type": "code",
      "execution_count": null,
      "metadata": {
        "id": "A8Y9aOiirTRA"
      },
      "outputs": [],
      "source": [
        "## Calculate the error or the residual\n",
        "residuals = y_test - reg_pred"
      ]
    },
    {
      "cell_type": "code",
      "execution_count": null,
      "metadata": {
        "colab": {
          "base_uri": "https://localhost:8080/"
        },
        "id": "ByqtZ2YOrqGI",
        "outputId": "a9f0e2e5-84f9-4626-90cf-78bcb1129618"
      },
      "outputs": [],
      "source": [
        "residuals"
      ]
    },
    {
      "cell_type": "code",
      "execution_count": null,
      "metadata": {
        "colab": {
          "base_uri": "https://localhost:8080/",
          "height": 523
        },
        "id": "4dpQaTccrrDQ",
        "outputId": "0580ce0c-a41b-47cd-fb2b-9bc4ce95689c"
      },
      "outputs": [],
      "source": [
        "## distribution plot of the residuals\n",
        "sns.displot(residuals, kind=\"kde\")"
      ]
    },
    {
      "cell_type": "markdown",
      "metadata": {
        "id": "IIbYsQ1AsVjp"
      },
      "source": [
        "**Model Performance**"
      ]
    },
    {
      "cell_type": "code",
      "execution_count": null,
      "metadata": {
        "colab": {
          "base_uri": "https://localhost:8080/"
        },
        "id": "8cDnVraIr7Nw",
        "outputId": "60992eb0-0229-4c19-acce-139bd44e1247"
      },
      "outputs": [],
      "source": [
        "## lower error value - MSE and MAE\n",
        "## higher value - r2 score and adjusted r2 score\n",
        "from sklearn.metrics import mean_squared_error, mean_absolute_error, r2_score\n",
        "print(mean_squared_error(y_test, reg_pred))\n",
        "print(mean_absolute_error(y_test, reg_pred))\n",
        "print(r2_score(y_test, reg_pred))\n",
        "print(np.sqrt(mean_squared_error(y_test, reg_pred)))"
      ]
    },
    {
      "cell_type": "code",
      "execution_count": null,
      "metadata": {
        "id": "d5Z3Zr1D_zVv"
      },
      "outputs": [],
      "source": [
        "score = r2_score(y_test, reg_pred)"
      ]
    },
    {
      "cell_type": "code",
      "execution_count": null,
      "metadata": {
        "colab": {
          "base_uri": "https://localhost:8080/"
        },
        "id": "mo_1_cvUCDM_",
        "outputId": "5dd62180-7ad9-4b50-da36-ddaa7555234b"
      },
      "outputs": [],
      "source": [
        "score"
      ]
    },
    {
      "cell_type": "markdown",
      "metadata": {
        "id": "YmPXqMRi_3Xs"
      },
      "source": [
        "Adjusted R-square"
      ]
    },
    {
      "cell_type": "code",
      "execution_count": null,
      "metadata": {
        "colab": {
          "base_uri": "https://localhost:8080/"
        },
        "id": "jIQGJi1d_PGb",
        "outputId": "5c116370-d3d9-453e-c22e-c9aa9d1bb222"
      },
      "outputs": [],
      "source": [
        "1 - (1-score)*(len(y_test)-1)/(len(y_test)-X_test_norm.shape[1]-1)"
      ]
    },
    {
      "cell_type": "code",
      "execution_count": null,
      "metadata": {
        "colab": {
          "base_uri": "https://localhost:8080/"
        },
        "id": "Kbxm3btG_8b0",
        "outputId": "eb0c4179-018b-428c-dc4f-16d216691cfe"
      },
      "outputs": [],
      "source": [
        "X_test_norm.shape[1]"
      ]
    },
    {
      "cell_type": "markdown",
      "metadata": {
        "id": "CrtITQ8dCXhF"
      },
      "source": [
        "**Save the model -> Pickle File**"
      ]
    },
    {
      "cell_type": "code",
      "execution_count": null,
      "metadata": {
        "id": "e8IGOuZOBAzG"
      },
      "outputs": [],
      "source": [
        "import pickle\n",
        "pickle.dump(regression, open('model.pkl', 'wb'))"
      ]
    },
    {
      "cell_type": "markdown",
      "metadata": {
        "id": "MKa7sdZ1F2fO"
      },
      "source": [
        "**Load the file and use it for future test data predictions**"
      ]
    },
    {
      "cell_type": "code",
      "execution_count": null,
      "metadata": {
        "id": "qG00FQaaEicK"
      },
      "outputs": [],
      "source": [
        "model = pickle.load(open('model.pkl', 'rb'))"
      ]
    },
    {
      "cell_type": "code",
      "execution_count": null,
      "metadata": {
        "colab": {
          "base_uri": "https://localhost:8080/"
        },
        "id": "Fa-dEiv7E8EU",
        "outputId": "e9eb7aa4-eadb-4b58-f46c-d2731f10852c"
      },
      "outputs": [],
      "source": [
        "model.predict(scaler.transform(housing.data[0].reshape(1,-1)))"
      ]
    },
    {
      "cell_type": "code",
      "execution_count": null,
      "metadata": {
        "colab": {
          "base_uri": "https://localhost:8080/"
        },
        "id": "8G7WUmoTFG_E",
        "outputId": "93aafb92-df17-490b-f187-8d63a018e7dd"
      },
      "outputs": [],
      "source": [
        "model.predict(X_test_norm)"
      ]
    }
  ],
  "metadata": {
    "colab": {
      "provenance": []
    },
    "kernelspec": {
      "display_name": "venv",
      "language": "python",
      "name": "python3"
    },
    "language_info": {
      "codemirror_mode": {
        "name": "ipython",
        "version": 3
      },
      "file_extension": ".py",
      "mimetype": "text/x-python",
      "name": "python",
      "nbconvert_exporter": "python",
      "pygments_lexer": "ipython3",
      "version": "3.12.11"
    }
  },
  "nbformat": 4,
  "nbformat_minor": 0
}
